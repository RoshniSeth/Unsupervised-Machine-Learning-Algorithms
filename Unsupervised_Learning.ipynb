{
  "nbformat": 4,
  "nbformat_minor": 0,
  "metadata": {
    "colab": {
      "provenance": [],
      "authorship_tag": "ABX9TyPgzkKH50wcpncYf63qWA+A",
      "include_colab_link": true
    },
    "kernelspec": {
      "name": "python3",
      "display_name": "Python 3"
    },
    "language_info": {
      "name": "python"
    }
  },
  "cells": [
    {
      "cell_type": "markdown",
      "metadata": {
        "id": "view-in-github",
        "colab_type": "text"
      },
      "source": [
        "<a href=\"https://colab.research.google.com/github/RoshniSeth/Unsupervised-Machine-Learning-Algorithms/blob/main/Unsupervised_Learning.ipynb\" target=\"_parent\"><img src=\"https://colab.research.google.com/assets/colab-badge.svg\" alt=\"Open In Colab\"/></a>"
      ]
    },
    {
      "cell_type": "markdown",
      "source": [
        "#**Unsupervised Learning**"
      ],
      "metadata": {
        "id": "2E0ARz9hwRmw"
      }
    },
    {
      "cell_type": "markdown",
      "source": [
        "Unsupervised learning is a type of machine learning in which models are trained using unlabeled dataset and are allowed to act on that data without any supervision. It is a machine learning technique in which models are not supervised using training dataset. Instead, models itself find the hidden patterns and insights from the given data. It can be compared to learning which takes place in the human brain while learning new things.\n",
        "\n",
        "\n",
        "The goal of unsupervised learning is to find the underlying structure of dataset, group that data according to similarities, and represent that dataset in a compressed format.\n",
        "\n"
      ],
      "metadata": {
        "id": "L8WSUXeOwONB"
      }
    },
    {
      "cell_type": "markdown",
      "source": [
        "###**Why Use Unsupervised Learning?**"
      ],
      "metadata": {
        "id": "mygLozUiyBhW"
      }
    },
    {
      "cell_type": "markdown",
      "source": [
        "Below are some main reasons which describe the importance of Unsupervised Learning:\n",
        "\n",
        "*   Unsupervised learning is helpful for finding useful insights from\n",
        "    the data.\n",
        "*   Unsupervised learning is much similar as a human learns to think\n",
        "    by their own experiences, which makes it closer to the real AI..\n",
        "*   Unsupervised learning works on unlabeled and uncategorized data\n",
        "    which make unsupervised learning more important.\n",
        "*   In real-world, we do not always have input data with the\n",
        "    corresponding output so to solve such cases, we need unsupervised learning.\n"
      ],
      "metadata": {
        "id": "MvZCk2VVyKxg"
      }
    },
    {
      "cell_type": "markdown",
      "source": [
        "###**Types Of Unsupervised Learning**"
      ],
      "metadata": {
        "id": "EQCBhB2Zy6iB"
      }
    },
    {
      "cell_type": "markdown",
      "source": [
        "The unsupervised learning algorithm can be further categorized into two types of problems:\n",
        "\n",
        "1. **Clustering**: Clustering is a method of grouping the objects\n",
        "     into clusters such that objects with most similarities remains into a group and has less or no similarities with the objects of another group. Cluster analysis finds the commonalities between the data objects and categorizes them as per the presence and absence of those commonalities.\n",
        "\n",
        "\n",
        "2. **Association**: An association rule is an unsupervised learning\n",
        "   method which is used for finding the relationships between variables in the large database. It determines the set of items that occurs together in the dataset. Association rule makes marketing strategy more effective. Such as people who buy X item (suppose a bread) are also tend to purchase Y (Butter/Jam) item. A typical example of Association rule is Market Basket Analysis."
      ],
      "metadata": {
        "id": "d4OL3XPqzLzE"
      }
    },
    {
      "cell_type": "markdown",
      "source": [
        "###**Advantages Of Unsupervised Learning**"
      ],
      "metadata": {
        "id": "xOYM8xY-1L1x"
      }
    },
    {
      "cell_type": "markdown",
      "source": [
        "1. Unsupervised learning is used for more complex tasks as compared\n",
        "   to supervised learning because, in unsupervised learning, we don't have labeled input data.\n",
        "2. Unsupervised learning is preferable as it is easy to get unlabeled\n",
        "   data in comparison to labeled data."
      ],
      "metadata": {
        "id": "1wBaEJJq1UXV"
      }
    },
    {
      "cell_type": "markdown",
      "source": [
        "###**Disadvantages Of Unsupervised Learning**"
      ],
      "metadata": {
        "id": "iqCGbUuz1ebX"
      }
    },
    {
      "cell_type": "markdown",
      "source": [
        "1. Unsupervised learning is intrinsically more difficult than\n",
        "   supervised learning as it does not have corresponding output.\n",
        "2. The result of the unsupervised learning algorithm might be less\n",
        "   accurate as input data is not labeled, and algorithms do not know the exact output in advance."
      ],
      "metadata": {
        "id": "KofDw2dH1l4M"
      }
    },
    {
      "cell_type": "markdown",
      "source": [
        "###**Unsupervised Learning Algorithms**"
      ],
      "metadata": {
        "id": "HEn1fw-j0YyO"
      }
    },
    {
      "cell_type": "markdown",
      "source": [
        "In this module we will be using the **clustering** technique.\n",
        "\n",
        "####**Clustering**\n",
        "Clustering or cluster analysis is a machine learning technique, which groups the unlabelled dataset. It can be defined as \"A way of grouping the data points into different clusters, consisting of similar data points. The objects with the possible similarities remain in a group that has less or no similarities with another group.\"\n",
        "\n",
        "The clustering technique is commonly used for statistical data analysis.\n",
        "\n",
        "This algorithm is generally used by the **Amazon** in its recommendation system to provide the recommendations as per the past search of products. **Netflix** also uses this technique to recommend the movies and web-series to its users as per the watch history.\n",
        "\n",
        "\n",
        "####**Types Of Clustering**\n",
        "Below are the main clustering methods used in Machine learning:\n",
        "1. Partitioning Clustering\n",
        "2. Density-Based Clustering\n",
        "3. Distribution Model-Based Clustering\n",
        "4. Hierarchical Clustering\n",
        "5. Fuzzy Clustering\n",
        "\n",
        "\n",
        "Here we are discussing the **Partitioning Clustering** and **Hierarchical Clustering**.  \n",
        "\n"
      ],
      "metadata": {
        "id": "Nn-mn6SC0tUk"
      }
    },
    {
      "cell_type": "markdown",
      "source": [
        "###**Partitioning Clustering**"
      ],
      "metadata": {
        "id": "eUMA_3vw7Z6s"
      }
    },
    {
      "cell_type": "markdown",
      "source": [
        "It is a type of clustering that divides the data into non-hierarchical groups. It is also known as the **centroid-based method**. The most common example of partitioning clustering is the **K-Means Clustering** algorithm.\n",
        "\n",
        "####**K-Means Clustering**\n",
        "\n",
        "It is an iterative algorithm that divides the unlabeled dataset into k different clusters in such a way that each dataset belongs only one group that has similar properties.\n",
        "\n",
        "K-Means Clustering is an Unsupervised Learning algorithm, which groups the unlabeled dataset into different clusters. Here K defines the number of pre-defined clusters that need to be created in the process, as if K=2, there will be two clusters, and for K=3, there will be three clusters, and so on. It is a centroid-based algorithm, where each cluster is associated with a centroid. The main aim of this algorithm is to minimize the sum of distances between the data point and their corresponding clusters.\n",
        "\n",
        "The k-means clustering algorithm mainly performs two tasks:\n",
        "\n",
        "1. Determines the best value for K center points or centroids by an\n",
        "   iterative process.\n",
        "2. Assigns each data point to its closest k-center. Those data points\n",
        "   which are near to the particular k-center, create a cluster.\n",
        "   \n",
        "Hence each cluster has datapoints with some commonalities, and it is away from other clusters.\n",
        "\n",
        "\n",
        "<center>\n",
        "\n",
        "![k-means-clustering-algorithm-in-machine-learning.png](data:image/png;base64,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)\n",
        "</center>"
      ],
      "metadata": {
        "id": "gA2EjOwH-BzZ"
      }
    },
    {
      "cell_type": "markdown",
      "source": [
        "###**Working Of K-Means Clustering**"
      ],
      "metadata": {
        "id": "01QHmFWaQDdC"
      }
    },
    {
      "cell_type": "markdown",
      "source": [
        "The steps involved in** K-Means Clustering** are as follows:\n",
        "\n",
        "1. Select the number K to decide the number of clusters.\n",
        "2. Select random K points or centroids. (It can be other from the\n",
        "   input dataset).\n",
        "3. Assign each data point to their closest centroid, which will form\n",
        "   the predefined K clusters.\n",
        "4. Calculate the variance and place a new centroid of each cluster.\n",
        "5. Repeat the third steps, which means reassign each datapoint to the\n",
        "   new closest centroid of each cluster.\n",
        "6. If any reassignment occurs, then go to step-4 else go to\n",
        "        FINISH.\n",
        "7. The model is ready."
      ],
      "metadata": {
        "id": "8oXbTiBTQ2eM"
      }
    },
    {
      "cell_type": "markdown",
      "source": [
        "###**How to choose the value of \"K number of clusters\" in K-means Clustering?**"
      ],
      "metadata": {
        "id": "_oLYce3sStmx"
      }
    },
    {
      "cell_type": "markdown",
      "source": [
        "The performance of the K-means clustering algorithm depends upon highly efficient clusters that it forms. But choosing the optimal number of clusters is a big task. The most appropriate method to find the number of clusters or value of K is **Elbow Method**.\n",
        "\n",
        "####**Elbow Method**\n",
        "This method uses the concept of WCSS value. WCSS stands for Within Cluster Sum of Squares, which defines the total variations within a cluster.\n",
        "\n",
        "The formula to calculate the value of WCSS (for 3 clusters) is given below:\n",
        "\n",
        "\n",
        "$\n",
        "\\text{WCSS} = \\sum_{i \\in \\text{Cluster}1} \\text{distance}(P_i, C1)^2 + \\sum_{i \\in \\text{Cluster}2} \\text{distance}(P_i, C2)^2 + \\sum_{i \\in \\text{Cluster}3} \\text{distance}(P_i, C3)^2\n",
        "$\n",
        "\n",
        "\n",
        "\n",
        "In the above formula of WCSS,\n",
        "\n",
        "$\\sum_{i \\text{ in Cluster} 1} \\text{distance}(P_i, C_1)^2$ : It is the sum of the square of the distances between each data point and its centroid within a cluster1 and the same for the other two terms.\n",
        "\n",
        "\n",
        "To measure the distance between data points and centroid, we can use any method such as Euclidean distance or Manhattan distance.\n",
        "\n",
        "To find the optimal value of clusters, the elbow method follows the below steps:\n",
        "1. It executes the K-means clustering on a given dataset for\n",
        "   different k values (ranges from 1-10).\n",
        "2. For each value of K, calculates the WCSS value.\n",
        "3. Plots a curve between calculated WCSS values and the number of\n",
        "   clusters K.\n",
        "4. The sharp point of bend or a point of the plot looks like an arm,\n",
        "   then that point is considered as the best value of K."
      ],
      "metadata": {
        "id": "4ldYBGnSS0zL"
      }
    },
    {
      "cell_type": "markdown",
      "source": [
        "<center>\n",
        "\n",
        "![k-means-clustering-algorithm-in-machine-learning13.png](data:image/png;base64,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)\n",
        "\n",
        "</center>\n",
        "\n",
        "\n",
        "\n",
        "Since the graph shows the sharp bend, which looks like an elbow, hence it is known as the elbow method. The graph for the elbow method looks like the above image.\n"
      ],
      "metadata": {
        "id": "P280IXFCVCf3"
      }
    },
    {
      "cell_type": "markdown",
      "source": [
        "In the above section we have discussed about the **K-Means Clustering** in detail. Let's discuss the python implementation of the K-Means Clustering.  \n",
        "\n",
        "\n",
        "\n"
      ],
      "metadata": {
        "id": "-xurDpJgVDII"
      }
    },
    {
      "cell_type": "markdown",
      "source": [
        "####**About the Dataset**\n",
        "\n",
        "\n",
        "We have a dataset of **Mall_Customers**, which is the data of customers who visit the mall and spend there.\n",
        "\n",
        "In the given dataset, we have **Customer_Id**,**Gender**, **Age**, **Annual Income ($)**, and**Spending Score** (which is the calculated value of how much a customer has spent in the mall, the more the value, the more he has spent). From this dataset, we need to calculate some patterns, as it is an unsupervised method, so we don't know what to calculate exactly."
      ],
      "metadata": {
        "id": "mo238FfxXSf5"
      }
    },
    {
      "cell_type": "markdown",
      "source": [
        "####**Implementation Steps**\n",
        "\n",
        "1. Data Pre-processing\n",
        "2. Finding the optimal number of clusters using the elbow method\n",
        "3. Training the K-means algorithm on the training dataset\n",
        "4. Visualizing the clusters"
      ],
      "metadata": {
        "id": "IJ1Qa-AHXZod"
      }
    },
    {
      "cell_type": "code",
      "source": [
        "# Importing all the necessary libraries\n",
        "\n",
        "import pandas as pd\n",
        "import numpy as np\n",
        "import matplotlib.pyplot as plt\n",
        "import seaborn as sns\n",
        "import warnings\n",
        "warnings.filterwarnings('ignore')"
      ],
      "metadata": {
        "id": "5L4L0RVZYcuS"
      },
      "execution_count": null,
      "outputs": []
    },
    {
      "cell_type": "markdown",
      "source": [
        "In the above code, the numpy we have imported for performing mathematical calculations, matplolib and seaborn is for plotting the graphs, pandas is for managing the dataset, and warnings for not showing the warnings in the output."
      ],
      "metadata": {
        "id": "oQlHqcC-5GIE"
      }
    },
    {
      "cell_type": "markdown",
      "source": [
        "####**Creating the Dataset**"
      ],
      "metadata": {
        "id": "_gGFYg4OYTKN"
      }
    },
    {
      "cell_type": "code",
      "source": [
        "# Creating the dataset manually using a dataframe\n",
        "mall_customers=pd.DataFrame({'CustomerId':[i for i in range(1,17)],'Gender':['Male','Male','Female','Female','Female','Female','Female','Female','Male','Female','Male','Female','Female','Female','Male','Male'],\n",
        "                            'Age':[19,21,20,23,31,22,35,23,64,30,67,35,58,24,37,22],\n",
        "                             'AnnualIncome(k$)':[15,15,16,16,17,17,18,18,19,19,19,19,20,20,20,20],\n",
        "                             'SpendingScore(1-100)':[39,81,6,77,40,76,6,94,3,72,14,99,15,77,13,79]})\n",
        "print(mall_customers.head())"
      ],
      "metadata": {
        "colab": {
          "base_uri": "https://localhost:8080/"
        },
        "id": "sEUcDlEIYY3B",
        "outputId": "49bc2132-47fc-42b0-e32e-afd257496daa"
      },
      "execution_count": null,
      "outputs": [
        {
          "output_type": "stream",
          "name": "stdout",
          "text": [
            "   CustomerId  Gender  Age  AnnualIncome(k$)  SpendingScore(1-100)\n",
            "0           1    Male   19                15                    39\n",
            "1           2    Male   21                15                    81\n",
            "2           3  Female   20                16                     6\n",
            "3           4  Female   23                16                    77\n",
            "4           5  Female   31                17                    40\n"
          ]
        }
      ]
    },
    {
      "cell_type": "markdown",
      "source": [
        "####**Preprocessing the Dataset**"
      ],
      "metadata": {
        "id": "EnYi_-xh1QI7"
      }
    },
    {
      "cell_type": "code",
      "source": [
        "print(\"Number of Rows and Columns in dataset= \",mall_customers.shape)\n",
        "print()\n",
        "print(\"Information about Dataset= \")\n",
        "print()\n",
        "print(mall_customers.info())\n",
        "print()\n",
        "print(\"Null Values in Dataset= \")\n",
        "print()\n",
        "print(mall_customers.isnull().sum())\n"
      ],
      "metadata": {
        "colab": {
          "base_uri": "https://localhost:8080/"
        },
        "id": "CDZfw7uq6OBO",
        "outputId": "069bfac5-b7d5-4ada-b2eb-04dd579fed2c"
      },
      "execution_count": null,
      "outputs": [
        {
          "output_type": "stream",
          "name": "stdout",
          "text": [
            "Number of Rows and Columns in dataset=  (16, 5)\n",
            "\n",
            "Information about Dataset= \n",
            "\n",
            "<class 'pandas.core.frame.DataFrame'>\n",
            "RangeIndex: 16 entries, 0 to 15\n",
            "Data columns (total 5 columns):\n",
            " #   Column                Non-Null Count  Dtype \n",
            "---  ------                --------------  ----- \n",
            " 0   CustomerId            16 non-null     int64 \n",
            " 1   Gender                16 non-null     object\n",
            " 2   Age                   16 non-null     int64 \n",
            " 3   AnnualIncome(k$)      16 non-null     int64 \n",
            " 4   SpendingScore(1-100)  16 non-null     int64 \n",
            "dtypes: int64(4), object(1)\n",
            "memory usage: 768.0+ bytes\n",
            "None\n",
            "\n",
            "Null Values in Dataset= \n",
            "\n",
            "CustomerId              0\n",
            "Gender                  0\n",
            "Age                     0\n",
            "AnnualIncome(k$)        0\n",
            "SpendingScore(1-100)    0\n",
            "dtype: int64\n"
          ]
        }
      ]
    },
    {
      "cell_type": "markdown",
      "source": [
        "**Analysis**-> From the above code, we found that the dataset does not contain any null values and the column names and there datatypes are correct.There are 16 rows and 5 columns in the dataset."
      ],
      "metadata": {
        "id": "QcL63vmzhbA1"
      }
    },
    {
      "cell_type": "markdown",
      "source": [
        "In this dataset, we do not need any dependent variable for data preprocessing step as it is a clustering problem and we have no idea about what to determine. So we will not be dividing the dataset into the independent and dependent variables."
      ],
      "metadata": {
        "id": "I3Jz9z2d7zjw"
      }
    },
    {
      "cell_type": "code",
      "source": [
        "# Extracting th enecessary features from the dataset\n",
        "x=mall_customers.iloc[:,[3,4]].values\n",
        "print(x)"
      ],
      "metadata": {
        "colab": {
          "base_uri": "https://localhost:8080/"
        },
        "id": "Ykpax9lH9t3A",
        "outputId": "462ca9ea-790f-41b6-c6e2-27ee3ddb6d0b"
      },
      "execution_count": null,
      "outputs": [
        {
          "output_type": "stream",
          "name": "stdout",
          "text": [
            "[[15 39]\n",
            " [15 81]\n",
            " [16  6]\n",
            " [16 77]\n",
            " [17 40]\n",
            " [17 76]\n",
            " [18  6]\n",
            " [18 94]\n",
            " [19  3]\n",
            " [19 72]\n",
            " [19 14]\n",
            " [19 99]\n",
            " [20 15]\n",
            " [20 77]\n",
            " [20 13]\n",
            " [20 79]]\n"
          ]
        }
      ]
    },
    {
      "cell_type": "markdown",
      "source": [
        "**Analysis**-> Here, we are extracting only 3rd and 4th feature. It is because we need a 2d plot to visualize the model, and some features are not required, such as customer_id,age,gender."
      ],
      "metadata": {
        "id": "cyFYEJRTZVfD"
      }
    },
    {
      "cell_type": "markdown",
      "source": [
        "####**Finding the Optimal number of Clusters using Elbow Method**"
      ],
      "metadata": {
        "id": "grOVrSUL8T6J"
      }
    },
    {
      "cell_type": "code",
      "source": [
        "# Finding optimal number of clustters using elbow method\n",
        "from sklearn.cluster import KMeans\n",
        "\n",
        "# Intializing the list for WCSS values\n",
        "wcss=[]\n",
        "\n",
        "# Using a for loop for the iterations from 1 to 10\n",
        "for i in range(1,11):\n",
        "  kmeans=KMeans(n_clusters=i,init='k-means++',random_state=42)\n",
        "  kmeans.fit(x)\n",
        "  wcss.append(kmeans.inertia_)\n",
        "\n",
        "# Printing the wcss values\n",
        "print(wcss)\n"
      ],
      "metadata": {
        "colab": {
          "base_uri": "https://localhost:8080/"
        },
        "id": "CSy1mWdv8jUq",
        "outputId": "8e2c0c9f-457f-4e20-b2fe-ee13198ec42f"
      },
      "execution_count": null,
      "outputs": [
        {
          "output_type": "stream",
          "name": "stdout",
          "text": [
            "[18991.9375, 2156.875, 796.2083333333334, 225.16666666666666, 97.66666666666667, 66.03333333333333, 46.33333333333333, 31.833333333333332, 18.833333333333336, 10.166666666666666]\n"
          ]
        }
      ]
    },
    {
      "cell_type": "markdown",
      "source": [
        "Analysis-> As we know, the elbow method uses the WCSS concept to draw the plot by plotting WCSS values on the Y-axis and the number of clusters on the X-axis. So we have calculated the value for WCSS for different k values ranging from 1 to 10.\n",
        "\n",
        "As we can see in the above code, we have used the KMeans class of sklearn. cluster library to form the clusters.\n",
        "Next, we have created the wcss_list variable to initialize an empty list, which is used to contain the value of wcss computed for different values of k ranging from 1 to 10.\n",
        "After that, we have initialized the for loop for the iteration on a different value of k ranging from 1 to 10. Then we have fitted the model on a matrix of features and then we have plotted the graph between the number of clusters and WCSS."
      ],
      "metadata": {
        "id": "GA1UwmVpZpZ5"
      }
    },
    {
      "cell_type": "markdown",
      "source": [
        "####**Plotting the Graph Between K values and WCSS values**"
      ],
      "metadata": {
        "id": "OlwU4vlj_USp"
      }
    },
    {
      "cell_type": "code",
      "source": [
        "plt.figure(figsize=(6,4))\n",
        "plt.plot([i for i in range(1,11)],wcss,marker='o',color='darkmagenta',markerfacecolor='orchid')\n",
        "plt.title('The Elbow Method Graph',fontsize=20,color='darkmagenta')\n",
        "plt.xlabel('K Values',fontsize=12,color='orchid')\n",
        "plt.ylabel('WCSS Values',fontsize=12,color='orchid')\n",
        "plt.xticks(color='orchid')\n",
        "plt.yticks(color='orchid')\n",
        "plt.gca().spines['bottom'].set_color('lightgrey')\n",
        "plt.gca().spines['top'].set_color('white')\n",
        "plt.gca().spines['left'].set_color('lightgrey')\n",
        "plt.gca().spines['right'].set_color('white')\n",
        "plt.show()"
      ],
      "metadata": {
        "colab": {
          "base_uri": "https://localhost:8080/",
          "height": 422
        },
        "id": "lOu-e8Wa_hSR",
        "outputId": "3eb626cc-578f-4596-fb59-09b6dafbc34c"
      },
      "execution_count": null,
      "outputs": [
        {
          "output_type": "display_data",
          "data": {
            "text/plain": [
              "<Figure size 600x400 with 1 Axes>"
            ],
            "image/png": "[encoded data removed]"
          },
          "metadata": {}
        }
      ]
    },
    {
      "cell_type": "markdown",
      "source": [
        "**Analysis**:We have plotted a graph between the k values  and the wcss values to find the number of clusters.\n",
        "\n",
        "From the above code, we find that the elbow point is at 3. **So the number of clusters here will be 3**."
      ],
      "metadata": {
        "id": "GvZY6975GSjM"
      }
    },
    {
      "cell_type": "markdown",
      "source": [
        "####**Training the K-Means Algorithm on the Training Dataset**"
      ],
      "metadata": {
        "id": "yT8r42s0IMIM"
      }
    },
    {
      "cell_type": "code",
      "source": [
        "# Training the kmeans model on the dataset\n",
        "kmeans=KMeans(n_clusters=3,init='k-means++',random_state=42)\n",
        "y_predict=kmeans.fit_predict(x)\n",
        "print(y_predict)"
      ],
      "metadata": {
        "colab": {
          "base_uri": "https://localhost:8080/"
        },
        "id": "FJ_WVqRxIKtl",
        "outputId": "132d147b-8fd3-4902-9ab6-35810e5e4b88"
      },
      "execution_count": null,
      "outputs": [
        {
          "output_type": "stream",
          "name": "stdout",
          "text": [
            "[2 1 0 1 2 1 0 1 0 1 0 1 0 1 0 1]\n"
          ]
        }
      ]
    },
    {
      "cell_type": "code",
      "source": [
        "# Creating a Dataframe having all the columns in dataset including the y_predict\n",
        "output_data=pd.DataFrame(data=mall_customers)\n",
        "output_data['Clusters']=y_predict\n",
        "print(output_data)"
      ],
      "metadata": {
        "colab": {
          "base_uri": "https://localhost:8080/"
        },
        "id": "0l4iPEvdJJx8",
        "outputId": "9bf2b054-110f-4da6-f645-04bead345896"
      },
      "execution_count": null,
      "outputs": [
        {
          "output_type": "stream",
          "name": "stdout",
          "text": [
            "    CustomerId  Gender  Age  AnnualIncome(k$)  SpendingScore(1-100)  Clusters\n",
            "0            1    Male   19                15                    39         2\n",
            "1            2    Male   21                15                    81         1\n",
            "2            3  Female   20                16                     6         0\n",
            "3            4  Female   23                16                    77         1\n",
            "4            5  Female   31                17                    40         2\n",
            "5            6  Female   22                17                    76         1\n",
            "6            7  Female   35                18                     6         0\n",
            "7            8  Female   23                18                    94         1\n",
            "8            9    Male   64                19                     3         0\n",
            "9           10  Female   30                19                    72         1\n",
            "10          11    Male   67                19                    14         0\n",
            "11          12  Female   35                19                    99         1\n",
            "12          13  Female   58                20                    15         0\n",
            "13          14  Female   24                20                    77         1\n",
            "14          15    Male   37                20                    13         0\n",
            "15          16    Male   22                20                    79         1\n"
          ]
        }
      ]
    },
    {
      "cell_type": "markdown",
      "source": [
        "**Analysis**-> In the above code, we have created a dataset containing all the values of the original dataset and the y_predict column is inserted so that we can compare the values of y_predict with the original dataset. The above dataset  will relate the customer to the particular cluster to which it belongs.\n",
        "\n",
        "For example, the customerid 1 belongs to cluster 3(as index starts from 0, hence 2 will be considered as 3) and customerid 2 belongs to cluster 2 and so on."
      ],
      "metadata": {
        "id": "FsoTvWUpKtjz"
      }
    },
    {
      "cell_type": "code",
      "source": [
        "# Total values in a Particular Cluster\n",
        "print(output_data['Clusters'].value_counts())"
      ],
      "metadata": {
        "colab": {
          "base_uri": "https://localhost:8080/"
        },
        "id": "fdxqqmus6PJZ",
        "outputId": "a2179110-39cd-498d-97cc-237b9bd15f0d"
      },
      "execution_count": null,
      "outputs": [
        {
          "output_type": "stream",
          "name": "stdout",
          "text": [
            "Clusters\n",
            "1    8\n",
            "0    6\n",
            "2    2\n",
            "Name: count, dtype: int64\n"
          ]
        }
      ]
    },
    {
      "cell_type": "markdown",
      "source": [
        "####**Visualizing the Clusters**"
      ],
      "metadata": {
        "id": "rDnVFAuxMPFy"
      }
    },
    {
      "cell_type": "code",
      "source": [
        "# Visualizing the clusters\n",
        "plt.figure(figsize=(8,3))\n",
        "\n",
        "# For the first cluster\n",
        "plt.scatter(x[y_predict==0,0],x[y_predict==0,1],color='darkmagenta',s=100,marker='o',label='Cluster 1')\n",
        "\n",
        "# for the second clustter\n",
        "plt.scatter(x[y_predict==1,0],x[y_predict==1,1],color='darkred',s=100,marker='o',label='Cluster 2')\n",
        "\n",
        "# for the third cluster\n",
        "plt.scatter(x[y_predict==2,0],x[y_predict==2,1],color='mediumblue',s=100,marker='o',label='Cluster 3')\n",
        "\n",
        "plt.scatter(kmeans.cluster_centers_[:, 0], kmeans.cluster_centers_[:, 1], s = 200, c = 'yellow', label = 'Centroid')\n",
        "\n",
        "plt.title('Clusters Of Customers',fontsize=20,color='darkgreen')\n",
        "plt.xlabel('Annual Income(k$)',color='purple',fontsize=12)\n",
        "plt.ylabel('Spending Score(1-100)',color='purple',fontsize=12)\n",
        "plt.xticks(color='purple')\n",
        "plt.yticks(color='purple')\n",
        "\n",
        "plt.legend(loc=(0.9,0.9))\n",
        "\n",
        "plt.show()"
      ],
      "metadata": {
        "colab": {
          "base_uri": "https://localhost:8080/",
          "height": 380
        },
        "id": "QVeIIS7MMVdP",
        "outputId": "92630b2d-2871-4c40-df48-2367a4b059b3"
      },
      "execution_count": null,
      "outputs": [
        {
          "output_type": "display_data",
          "data": {
            "text/plain": [
              "<Figure size 800x300 with 1 Axes>"
            ],
            "image/png": "[encoded data removed]"
          },
          "metadata": {}
        }
      ]
    },
    {
      "cell_type": "markdown",
      "source": [
        "**Analysis**-> In above lines of code, we have written code for each clusters, ranging from 1 to 3. The first coordinate of the plt.scatter, i.e., x[y_predict == 0, 0] containing the x value for the showing the matrix of features values, and the y_predict is ranging from 0 to 1.\n",
        "\n",
        "The output image is clearly showing the three different clusters with different colors. The clusters are formed between two parameters of the dataset; Annual income of customer and Spending.\n",
        "\n",
        "We can also observe some points from the above patterns, which are given below:\n",
        "1. Cluster 1 shows the customer has a high income but low spending,\n",
        "   so we can categorize them as careful.\n",
        "2. Cluster 2 shows the customers with high income and high spending so they can be categorized as target, and these customers can be the most profitable customers for the mall owner.\n",
        "3. Cluster1 shows the customers with average salary and average\n",
        "   spending so we can categorize these customers as average customers."
      ],
      "metadata": {
        "id": "X2I9vcLnVv_a"
      }
    },
    {
      "cell_type": "markdown",
      "source": [
        "\n",
        "\n",
        "---\n",
        "\n",
        "\n",
        "\n",
        "---\n",
        "\n",
        "\n",
        "\n",
        "---\n",
        "\n"
      ],
      "metadata": {
        "id": "E3BKBsZt-CGN"
      }
    },
    {
      "cell_type": "markdown",
      "source": [
        "###**Hierarchical Clustering**"
      ],
      "metadata": {
        "id": "K2hTU_Q9ln1b"
      }
    },
    {
      "cell_type": "markdown",
      "source": [
        "Hierarchical clustering is another unsupervised machine learning algorithm, which is used to group the unlabeled datasets into a cluster and also known as **hierarchical cluster analysis** or **HCA**.\n",
        "\n",
        "In this algorithm, we develop the hierarchy of clusters in the form of a tree, and this tree-shaped structure is known as the **dendrogram**.\n",
        "\n",
        "Sometimes the results of K-means clustering and hierarchical clustering may look similar, but they both differ depending on how they work. As there is no requirement to predetermine the number of clusters as we did in the K-Means algorithm.\n",
        "\n",
        "\n",
        "The hierarchical clustering technique has two approaches:\n",
        "1. **Agglomerative**: Agglomerative is a **bottom-up approach**, in\n",
        "     which the algorithm starts with taking all data points as single clusters and merging them until one cluster is left.\n",
        "2.   **Divisive**: Divisive algorithm is the reverse of the agglomerative algorithm as it is a **top-down approach**."
      ],
      "metadata": {
        "id": "UfW-z0Ekl-Mr"
      }
    },
    {
      "cell_type": "markdown",
      "source": [
        "**Here, discuss the Agglomerative Hierarchical clustering algorithm.**"
      ],
      "metadata": {
        "id": "IazTtYBxnSCr"
      }
    },
    {
      "cell_type": "markdown",
      "source": [
        "###**Agglomerative Hierarchical Clustering**\n",
        "\n",
        "The agglomerative hierarchical clustering algorithm is a popular example of HCA. To group the datasets into clusters, it follows the **bottom-up approach**. It means, this algorithm considers each dataset as a single cluster at the beginning, and then start combining the closest pair of clusters together. It does this until all the clusters are merged into a single cluster that contains all the datasets.\n",
        "\n",
        "This hierarchy of clusters is represented in the form of the dendrogram."
      ],
      "metadata": {
        "id": "LKgKdCYEoJe4"
      }
    },
    {
      "cell_type": "markdown",
      "source": [
        "###**Working Of Agglomerative Hierarchical Clustering**\n",
        "\n",
        "1. Create each data point as a single cluster. Let's say there are N\n",
        "   data points, so the number of clusters will also be N.\n",
        "<center>\n",
        "\n",
        " ![hierarchical-clustering-in-machine-learning.png](data:image/png;base64,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)\n",
        "</center>\n",
        "\n",
        "2. Take two closest data points or clusters and merge them to form\n",
        "   one cluster. So, there will now be N-1 clusters.\n",
        "<center>\n",
        "\n",
        "  ![hierarchical-clustering-in-machine-learning2.png](data:image/png;base64,iVBORw0KGgoAAAANSUhEUgAAAZAAAAE7CAYAAADzZNfhAAAAAXNSR0IArs4c6QAAAARnQU1BAACxjwv8YQUAAAAJcEhZcwAADsQAAA7EAZUrDhsAAAAZdEVYdFNvZnR3YXJlAEFkb2JlIEltYWdlUmVhZHlxyWU8AAAN4UlEQVR4Xu3dT4xV133A8TOuE4RQAwSVto5wZiostRIoIGcR1QtDswqLMOzsRQXUVdxFU3AXrtSkBapm0Ugpf5pFI7UC3IWzqTxOJLubGLxAqhq1EJlFJCwxNU2rUMWZiYWoEyuU83KmHTPvzbz58f7cc9/nI43m3MfEPHtxv/M7996XqXv3JQBYp0fKdwBYFwEBIERAAAgREABCBASAEAEBIERAAAgREABCBASAEAEBIERAAAgREABCBASAEAEBIERAAAgREABCBASAEAEBIERAAAgREABCBASAkGoCMj8/X1YANEEVAVlYWEiHDh0qRwA0QRUBmZubS9euXet8B6AZqgjI2bNnO98vXrzY+Q7A+E3du6+sG+ny5ctp//795Silmzdvpunp6XIEwLg0fgJZmj6WnDp1qqwAGKdGTyD5zquZmZly9AtbtmzpTCH5OwDj0+gJpNu0ke/IOnPmTDkCYFwaO4F0mz6WmEIAxq+xE8hq1zpMIQDj18gJJD/zsXfv3nLUnSkEYLwaOYG88MILZdVbnkL6+TkAhqNxE0h+2nw9H1ty9erVtGfPnnIEwKg0KiB5qshbV+v54MR9+/alS5culSMARqVRW1j5wvh6P3U3P6nugjrA6DVmAunnwnkv+UJ63sryEScAo9OICaTXx7Xn7anz58+Xo184ffr0imse+X9/9OjRcgTAKDRiAskn/wsXLnTWeYo4duxYmp2d/b+JYmpqqvM9W3q7easrf05Wvui+tO114sSJdPLkyc4agOEae0Dy9Yv80OCRI0fS4cOHu95R1S0gy+XrIPmj3nNM8oSS/1kADNfYA5JP/nmrajVrBWS5fC3Fbb0Aw9eo23h7WU9AABiNRn8aLwDNJSAAhAgIACECAkCIgAAQIiAAhAgIACECAkCIgAAQIiAAhAgIACECAkCIgAAQIiAAhAgIACECAkCI/0MpWMO7O54oq94+futGWcHkEBBYpp9Y9EtUaDsBYeINMhq9iAltJCBMpFFEoxcxoS0EhIkyznA8SEionYAwER4mHP2c6If9z4cmEhBab70n90Gc0Mfxd8KoCQit1e9JfBQn7ya9FxgUAaGV+jlhj+Nk3dT3BRGeRKd1mnyS7ufv7XdagXEzgdAqa518m/TbfU3vFboREFpjtRNyk0/Gtb5vsIVFK9R8El7t/a01pcA4CQjVa8Nv8CJCjQSEqrVp+0dEqI2AUK02xWOJiFATAaF1ao3HktrfP5NDQKhSr9/G23Ly7fXvYQqhSQSE6kzKSVREaDoBoTVs/cBoCQhVafvW1YNMITSZgEDDmaxoKgGhGpM2fazFFMK4CQhUwBRCEwkIVXNihfHxabxUoQ3bV/Pv3E3zt+521tM7Nqbpxzd21uvR7b+DiDIuJhCqVcuJc2HxZ+mFL30/zex9M+3//L90vvL60O9e7fwZ1EpAYMhyKM787Xw5+n9zr/0w7T/43XIE9REQGq/mu41yJC5febccrXTtrZ+kCy//oBzFuBuLcREQqlTL9tWbV35cVr1dXEdAXO+gSQQEhihPGNBWAgJDtGf3x8qqty2bP1JWUBcBgSE6eGB7WfXWz88sZxuLphAQGq325x72PfXxdPwPpsvRSkee/UTn62G5kM44CAgM2emv/Gbna/mDg3nb6sSLO9P5r+8ur0B9PIlOo7Xtyev84ODC4gehp9CXa9t/F+pkAoERypPHw8YDmkJAAAgREABCBASAEAEBIERAAAgREABCBIRG6/Zsg6euV/IMCOMgIFAZAaUpBASAEAEBIERAqJJtHBg/H6ZIFR7mwwMXb10pq5Q273iqrOrkQxRpEgGhCpETZw7Hjde/mN5fvFVeSenRDZvTzs+dS9ueOFBeqYuA0CS2sGilHI/r35z9UDyyD95fTN+fO5x+dOO18goQJSBUodtv2atdB7n5xpfLqrubl1b/8yZa7d8XxkFAaJ08Zdy5fb0cdZcnk+XXRmpl+4pxEhCq1u238rXiUSPTB00kIFSj12/bD55cN23fVVaryxfUa2b6YNwEhNbJYVjrdt0Nm3f0HZpxM33QVAJCVfqdQp743N/0nDDy6781+1I5qpPpgyYQEFopTxh7Dl9a8bxHnkx2PTNn+oAB8CAhVep1Yu31m3m+sF5LNJas998RRk1AqFabT7DiQQ1sYdE6tW/71P7+mRwCQrVW+2281pPwau/b9EHTCAhVa1NExIPaCAjVa0NExIMaCQitUHNExINauQuLVlkrFk06Idf0XqEbEwitstZJtynTiHjQBiYQWqmfUIzjJN3U9wURAkJr9TttjOKE3aT3AoMiILRevyfvbJAn8PX8vZl4UBsBYSKs92S+XL8n9ujfIRzUSkCYKA8TkkETDmonIEykcYZEOGgLAWGijTIkwkHbCAgUg46JYNB2AgJr6DcsgsGkERAAQnyUCQAhAgJAiIAAECIgAIQICAAhAgJAiIAAECIgAIQICAAhAgJAiIAAECIgAIQICAAhPo0XxuRbi2fTG++9lG7+9Htp+6PTaffGp9Nz276WNj2ypfwENJuAwBgc/48nO+F4UI7HVx77Tpr56KfKK9BctrBgxF7+8V90jUd25+cL6ezt3ytH0GwCAiP27cVzZdVdjkuvwECTCAiMWJ4y1vLW3ctlBc0lINBA+aI6NJ2AwIj1c4H8Nza4iE7zCQiM2O9v++uy6u7zm4+ZQKiCgMCI7dr4dPqjX/n7rs97fPaXD3eeBYEaeA4ExiRfTP/Oexfvf1/sHH9m00HPf1AVAQEgxBYWACECAkCIgAAQIiAAhAgIACECAkCIgAAQIiAAhAgIACECAkCIgAAQIiAAhAgIACECAkCIgAAQIiAAhAgIACECAkCIgAAQIiAAhAgIACECAkCIgAAQIiAAhAgIACECAkDI1L37yrqxpqamyiqlCt5uKy3eupJuvvHldOf29c7xoxs2p19/8gvpsU8/31kDk0dAWNPt699MN17/Yjn6sE3bd6U9hy+VI2CS2MJiVR+8v9iZPHrJE8k7V75ajoBJIiCs6t0br3cispp33369rIBJIiAjsLD4s3Th5R+kk3/1dufr2ls/KX/SfP+z+E5Z9bZ0XQSYLK6BDFmOxf6D3+1EZLnZA7+azn99V9qy+SPllWb6z3/9xqpbWNmGzTvSp7/wb+UImBQmkCGaf+du13hkc6/9MB39w+b/5r5t54Gy6m3zjqfKCpgkAjJEp776dtd4LMkRafp2Vp4uHnvy+XK0Ur6F9/HffrEcAZNEQIZo7rXbZdVbPz8zbjO/85ddI5Jv4d31zFwnMsDkcQ1kiKa2/VNZ9XbixZ3p5J/sLEfNlu/GWv4gYQ4IMLlMIEO0Z/fHyqq36cc3llXz5Wjk6x35SzwAARmiY89/sqy6y3dgzR7YXo4A6iIgQ3Tk2U90vrrJ8XjlH/Y2/jZegF5cAxmB/BDh2W/8e+eOq6WpI08n/WxxATSVgAAQYgsLgBABASBEQAAIERAAQgQEgBABASBEQAAIERAAQgQEgBABASBEQAAIERAAQgQEgBABASBEQAAIERAAQgQEgBABASBEQAAIERAAQqbu3VfWjTU1NVVWKVXwdkfmzs8X0lt330w3f/q9tP3RT6bdG5++/326/CnAcAlIpf75zqvp3H8/14nIcs9s/fP07P0vgGETkApdvz91fOm/PluOVhIRYBRcA6nQ3/3oj8uqu28vnlsxmQAMmoBUKF/zWE2Ox833V/8ZgIclIACECEiFNj2ypax62/RLa/8MwMMQkAp9ZtPBsuou38o789FPlSOA4RCQCj237Ws9A5Gnkz/9tX8sRwDD4zbeSuUL5d9aPJfeeO+ldPuD+U448mTyzNY/8zAhMBICAkCILSwAQgQEgBABASBEQAAIERAAQgQEgBABASBEQAAIERAAQgQEgBABASBEQAAIERAAQgQEgBABASBEQAAIERAAQgQEgBABASBEQAAIERAAQgQEgBABASBEQAAIERAAQgQEgBABASBEQAAIERAAQgQEgBABASBEQAAIERAAQgQEgBABASBEQAAGYH5+Pl24cKEcTYape/eVdWNNTU2VVUoVvF1gQs3MzKR9+/al8+fPl1fazQQCMCCHDx/uTCF79+5N165dK6+2l4AADMiRI0c633M8ckROnjzZOW4rAQEYkOnp6bRnz55ylNKpU6c6Ibl8+XJ5pV0EBGCA8jbWcnka2b9/fzp69GjnQnubuIgOMEALCwtp69at5Wil48ePpxMnTqQtW7aUV+plAgEYoByG2dnZcrTSmTNnOndr5esjtU8kAgIwYAcPHiyr7vKUkq+P5JDUvLU18C2s5dtNAPQnPz9y7NixVaeXphEQgAbJd3K98sorH7qbq6lsYQE0QA7H6dOn09WrV6uIR+YuLIABm5ubS4cOHSpHq6tx62qJCQRgwF599dWy6i0/tX7p0qXOV43xyEwgAAO01nMgSx+2mLesamcCARigvH3VTQ7H0sTRhnhkAgIwQA9uX+UHC/PEkcORI9ImtrAABiQ/EJgfDlzSpo8t6cYEAjAgS9tXORh54si35bY1HpkJBGBA8ke352DkBwHbHI4lJhCAAcgf2750oXwS4pGZQAAIMYEAECIgAIQICAAhAgJAiIAAECIgAIQICAAhAgJASBUPEgLQPCYQAEIEBIAQAQEgREAACBEQAEIEBIAQAQEgREAACBEQAEIEBIAQAQEgREAACBEQAEIEBIAQAQEgREAACBEQAAJS+l8FqxPs9FUsyAAAAABJRU5ErkJggg==)\n",
        "</center>\n",
        "3. Again, take the two closest clusters and merge them together to\n",
        "   form one cluster. There will be N-2 clusters.\n",
        "<center>\n",
        "\n",
        "   ![hierarchical-clustering-in-machine-learning3.png](data:image/png;base64,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)\n",
        "</center>\n",
        "\n",
        "4. Repeat Step 3 until only one cluster left. So, we will get the\n",
        "   following clusters.\n",
        "<center>\n",
        "\n",
        "   ![hierarchical-clustering-in-machine-learning4.png](data:image/png;base64,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)\n",
        "</center>\n",
        "\n",
        "\n",
        "<center>\n",
        "\n",
        "   ![hierarchical-clustering-in-machine-learning5.png](data:image/png;base64,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)\n",
        "</center>\n",
        "\n",
        "<center>\n",
        "\n",
        "   ![hierarchical-clustering-in-machine-learning6.png](data:image/png;base64,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)\n",
        "</center>\n",
        "\n",
        "5. Once all the clusters are combined into one big cluster, develop\n",
        "   the dendrogram to divide the clusters as per the problem.\n",
        "\n",
        "####**Measure for the distance between two clusters**\n",
        "The **closest distance** between the two clusters is crucial for the hierarchical clustering. There are various ways to calculate the distance between two clusters, and these ways decide the rule for clustering. These measures are called Linkage methods. Some of the popular linkage methods are given below:\n",
        "\n",
        "1. **Single Linkage**: It is the Shortest Distance between the closest\n",
        "   points of the clusters.\n",
        "2. **Complete Linkage**: It is the farthest distance between the two\n",
        "     points of two different clusters. It is one of the popular linkage methods as it forms tighter clusters than single-linkage.\n",
        "3. **Average Linkage**: It is the linkage method in which the\n",
        "     distance between each pair of datasets is added up and then divided by the total number of datasets to calculate the average distance between two clusters. It is also one of the most popular linkage methods.\n",
        "4. **Centroid Linkage**: It is the linkage method in which the distance\n",
        "   between the centroid of the clusters is calculated.\n",
        "\n",
        "\n",
        "From the above-given approaches, we can apply any of them according to the type of problem or business requirement."
      ],
      "metadata": {
        "id": "EL5d2q-6qXMC"
      }
    },
    {
      "cell_type": "markdown",
      "source": [
        "###**Working Of Dendrogram In Hierarchical Clustering**\n",
        "\n",
        "The dendrogram is a tree-like structure that is mainly used to store each step as a memory that the HC algorithm performs. In the dendrogram plot, the Y-axis shows the Euclidean distances between the data points, and the x-axis shows all the data points of the given dataset.\n",
        "\n",
        "The working of the dendrogram can be explained using the below diagram:\n",
        "\n",
        "<center>\n",
        "\n",
        "![hierarchical-clustering-in-machine-learning10.png](data:image/png;base64,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)\n",
        "\n",
        "</center>\n",
        "\n",
        "\n",
        "In the above diagram, the left part is showing how clusters are created in agglomerative clustering, and the right part is showing the corresponding dendrogram.\n",
        "\n",
        "*   The datapoints P2 and P3 combine together and form a cluster,\n",
        "    correspondingly a dendrogram is created, which connects P2 and P3 with a rectangular shape. The hight is decided according to the Euclidean distance between the data points.\n",
        "*   In the next step, P5 and P6 form a cluster, and the corresponding\n",
        "    dendrogram is created. It is higher than of previous, as the\n",
        "Euclidean distance between P5 and P6 is a little bit greater than the\n",
        "  P2 and P3.\n",
        "*   Again, two new dendrograms are created that combine P1, P2, and    P3 in one dendrogram, and P4, P5, and P6, in another dendrogram.\n",
        "*  At last, the final dendrogram is created that combines all the data points together.\n",
        "\n",
        "\n",
        "\n",
        "We can cut the dendrogram tree structure at any level as per our requirement."
      ],
      "metadata": {
        "id": "pAycGJMDtycw"
      }
    },
    {
      "cell_type": "markdown",
      "source": [
        "We will be using the same dataset for the implementation of the hierarichical clustering.\n",
        "\n",
        "As we have completed the loading and preprocessing of the dataset in the above cells, so we will be directly implementing the agglomerative hierarchical clustering."
      ],
      "metadata": {
        "id": "0WXStMMGwBEP"
      }
    },
    {
      "cell_type": "markdown",
      "source": [
        "####**Finding the Optimal Number of Clusters using Dendrogram**"
      ],
      "metadata": {
        "id": "6jpoDTXsgQUn"
      }
    },
    {
      "cell_type": "code",
      "source": [
        "# Finding the optimal number of clusters using the dendrograms\n",
        "import scipy.cluster.hierarchy as sch\n",
        "dendro=sch.dendrogram(sch.linkage(x,method='ward'))\n",
        "\n",
        "# Visualizing the dendrogram\n",
        "plt.title('Dendrogram Plot',fontsize=20,color='darkmagenta')\n",
        "plt.xlabel('Customers',fontsize=10,color='orchid')\n",
        "plt.ylabel('Euclidean Distances',fontsize=10,color='orchid')\n",
        "plt.xticks(color='orchid')\n",
        "plt.yticks(color='orchid')\n",
        "plt.gca().spines['bottom'].set_color('lightgrey')\n",
        "plt.gca().spines['top'].set_color('lightgrey')\n",
        "plt.gca().spines['left'].set_color('lightgrey')\n",
        "plt.gca().spines['right'].set_color('lightgrey')\n",
        "plt.show()"
      ],
      "metadata": {
        "colab": {
          "base_uri": "https://localhost:8080/",
          "height": 484
        },
        "id": "enekbh-QgPlW",
        "outputId": "a005c92c-2d90-4140-8c34-f1adb8773402"
      },
      "execution_count": null,
      "outputs": [
        {
          "output_type": "display_data",
          "data": {
            "text/plain": [
              "<Figure size 640x480 with 1 Axes>"
            ],
            "image/png": "[encoded data removed]"
          },
          "metadata": {}
        }
      ]
    },
    {
      "cell_type": "markdown",
      "source": [
        "**Analysis**-> We have used scipy library as it provides a function that will directly return the dendrogram for our code.\n",
        "\n",
        "\n",
        "In the above lines of code, we have imported the hierarchy module of scipy library. This module provides us a method shc.denrogram(), which takes the linkage() as a parameter. The linkage function is used to define the distance between two clusters, so here we have passed the x(matrix of features), and method \"ward,\" the popular method of linkage in hierarchical clustering.\n",
        "\n",
        "Using this Dendrogram, we will now determine the optimal number of clusters for our model. For this, we will find the maximum vertical distance that does not cut any horizontal bar."
      ],
      "metadata": {
        "id": "yVAjtw0mjItI"
      }
    },
    {
      "cell_type": "code",
      "source": [
        "# Print the color list for the clusters\n",
        "unique_colors=set(dendro['color_list'])\n",
        "print(unique_colors)\n",
        "\n",
        "# Number of Otimal Clusters\n",
        "clusters=len(unique_colors)-1\n",
        "print(\"Number of Optimal Clusters= \",len(unique_colors)-1)"
      ],
      "metadata": {
        "colab": {
          "base_uri": "https://localhost:8080/"
        },
        "id": "kP4RXNV_qpXu",
        "outputId": "95d559e1-1f4e-4d8b-bd7e-a1452ffb7d7c"
      },
      "execution_count": null,
      "outputs": [
        {
          "output_type": "stream",
          "name": "stdout",
          "text": [
            "{'C2', 'C0', 'C1'}\n",
            "Number of Optimal Clusters=  2\n"
          ]
        }
      ]
    },
    {
      "cell_type": "markdown",
      "source": [
        "####**Training the Hierarchical Clustering Model**"
      ],
      "metadata": {
        "id": "uIT8s4f9sHJW"
      }
    },
    {
      "cell_type": "code",
      "source": [
        "# Training the hierarchical clustering model\n",
        "from sklearn.cluster import AgglomerativeClustering\n",
        "hc=AgglomerativeClustering(n_clusters=2,affinity='euclidean',linkage='ward')\n",
        "y_predicts=hc.fit_predict(x)\n",
        "print(y_predicts)"
      ],
      "metadata": {
        "colab": {
          "base_uri": "https://localhost:8080/"
        },
        "id": "zqZ4q0OxsNvc",
        "outputId": "d6025dff-3986-4cda-91c1-ecd1e122ea90"
      },
      "execution_count": null,
      "outputs": [
        {
          "output_type": "stream",
          "name": "stdout",
          "text": [
            "[0 1 0 1 0 1 0 1 0 1 0 1 0 1 0 1]\n"
          ]
        }
      ]
    },
    {
      "cell_type": "code",
      "source": [
        "# Creating a Dataframe having all the columns in dataset including the y_predict\n",
        "output=pd.DataFrame(data=mall_customers)\n",
        "output['Clusters']=y_predicts\n",
        "print(output)"
      ],
      "metadata": {
        "colab": {
          "base_uri": "https://localhost:8080/"
        },
        "outputId": "a2447d27-4cfc-465c-a845-5e2d6c65e060",
        "id": "G8gA0jcn5-Cs"
      },
      "execution_count": null,
      "outputs": [
        {
          "output_type": "stream",
          "name": "stdout",
          "text": [
            "    CustomerId  Gender  Age  AnnualIncome(k$)  SpendingScore(1-100)  Clusters\n",
            "0            1    Male   19                15                    39         0\n",
            "1            2    Male   21                15                    81         1\n",
            "2            3  Female   20                16                     6         0\n",
            "3            4  Female   23                16                    77         1\n",
            "4            5  Female   31                17                    40         0\n",
            "5            6  Female   22                17                    76         1\n",
            "6            7  Female   35                18                     6         0\n",
            "7            8  Female   23                18                    94         1\n",
            "8            9    Male   64                19                     3         0\n",
            "9           10  Female   30                19                    72         1\n",
            "10          11    Male   67                19                    14         0\n",
            "11          12  Female   35                19                    99         1\n",
            "12          13  Female   58                20                    15         0\n",
            "13          14  Female   24                20                    77         1\n",
            "14          15    Male   37                20                    13         0\n",
            "15          16    Male   22                20                    79         1\n"
          ]
        }
      ]
    },
    {
      "cell_type": "markdown",
      "source": [
        "**Analysis**-> In the above code, we have created a dataset containing all the values of the original dataset and the y_predicts column is inserted so that we can compare the values of y_predicts with the original dataset. The above dataset  will relate the customer to the particular cluster to which it belongs.\n",
        "\n",
        "For example, the customerid 1 belongs to cluster 1(as index starts from 0, hence 0 will be considered as 1) and customerid 2 belongs to cluster 2 and so on."
      ],
      "metadata": {
        "id": "VEZKQUJO67s-"
      }
    },
    {
      "cell_type": "code",
      "source": [
        "# Total values in a Particular Cluster\n",
        "print(output['Clusters'].value_counts())"
      ],
      "metadata": {
        "colab": {
          "base_uri": "https://localhost:8080/"
        },
        "outputId": "8dd62355-c35f-4495-c5f6-75980e6293a8",
        "id": "auaYvIJ-7ZS2"
      },
      "execution_count": null,
      "outputs": [
        {
          "output_type": "stream",
          "name": "stdout",
          "text": [
            "Clusters\n",
            "0    8\n",
            "1    8\n",
            "Name: count, dtype: int64\n"
          ]
        }
      ]
    },
    {
      "cell_type": "markdown",
      "source": [
        "####**Visualizing the Clusters**"
      ],
      "metadata": {
        "id": "zB6J3KgA7muM"
      }
    },
    {
      "cell_type": "code",
      "source": [
        "# Visualizing the clusters\n",
        "plt.figure(figsize=(8,3))\n",
        "\n",
        "# For the first cluster\n",
        "plt.scatter(x[y_predicts==0,0],x[y_predicts==0,1],color='darkmagenta',s=100,marker='o',label='Cluster 1')\n",
        "\n",
        "# for the second clustter\n",
        "plt.scatter(x[y_predicts==1,0],x[y_predicts==1,1],color='darkred',s=100,marker='o',label='Cluster 2')\n",
        "\n",
        "plt.title('Clusters Of Customers',fontsize=20,color='darkgreen')\n",
        "plt.xlabel('Annual Income(k$)',color='purple',fontsize=12)\n",
        "plt.ylabel('Spending Score(1-100)',color='purple',fontsize=12)\n",
        "plt.xticks(color='purple')\n",
        "plt.yticks(color='purple')\n",
        "\n",
        "plt.legend(loc=(0.9,0.9))\n",
        "\n",
        "plt.show()"
      ],
      "metadata": {
        "colab": {
          "base_uri": "https://localhost:8080/",
          "height": 345
        },
        "outputId": "98bbfbc2-c663-4300-91c8-139a00307f7c",
        "id": "eBIgnKdx9fnW"
      },
      "execution_count": null,
      "outputs": [
        {
          "output_type": "display_data",
          "data": {
            "text/plain": [
              "<Figure size 800x300 with 1 Axes>"
            ],
            "image/png": "[encoded data removed]"
          },
          "metadata": {}
        }
      ]
    },
    {
      "cell_type": "markdown",
      "source": [
        "**Analysis**-> In above lines of code, we have written code for each clusters, ranging from 1 to 2. The first coordinate of the plt.scatter, i.e., x[y_predict == 0, 0] containing the x value for the showing the matrix of features values, and the y_predict is ranging from 0 to 1.\n",
        "\n",
        "The output image is clearly showing the two different clusters with different colors. The clusters are formed between two parameters of the dataset; Annual income of customer and Spending.\n",
        "\n"
      ],
      "metadata": {
        "id": "vNaAvPDM9yOe"
      }
    },
    {
      "cell_type": "markdown",
      "source": [
        "\n",
        "\n",
        "---\n",
        "\n",
        "\n",
        "\n",
        "---\n",
        "\n",
        "\n",
        "\n",
        "---\n",
        "\n"
      ],
      "metadata": {
        "id": "L_7SjlyA99Er"
      }
    }
  ]
}